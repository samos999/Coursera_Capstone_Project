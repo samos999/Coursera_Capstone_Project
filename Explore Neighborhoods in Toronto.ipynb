{
    "nbformat_minor": 1, 
    "cells": [
        {
            "source": "# Segmenting and Clustering Neighborhoods in Toronto", 
            "cell_type": "markdown", 
            "metadata": {
                "collapsed": true
            }
        }, 
        {
            "source": "## Import Library", 
            "cell_type": "markdown", 
            "metadata": {}
        }, 
        {
            "execution_count": null, 
            "cell_type": "code", 
            "metadata": {}, 
            "outputs": [], 
            "source": "import numpy as np # library to handle data in a vectorized manner\n\nimport pandas as pd # library for data analsysis\npd.set_option('display.max_columns', None)\npd.set_option('display.max_rows', None)\n\nimport json # library to handle JSON files\n\n!conda install -c conda-forge geopy --yes # uncomment this line if you haven't completed the Foursquare API lab\nfrom geopy.geocoders import Nominatim # convert an address into latitude and longitude values\n\nimport requests # library to handle requests\nfrom pandas.io.json import json_normalize # tranform JSON file into a pandas dataframe\n\n# Matplotlib and associated plotting modules\nimport matplotlib.cm as cm\nimport matplotlib.colors as colors\n\n# import k-means from clustering stage\nfrom sklearn.cluster import KMeans\n\n!conda install -c conda-forge folium=0.5.0 --yes # uncomment this line if you haven't completed the Foursquare API lab\nimport folium # map rendering library\n\n# library for pulling data out of HTML and XML files\nfrom bs4 import BeautifulSoup\n\nprint('Libraries imported.')"
        }, 
        {
            "execution_count": null, 
            "cell_type": "code", 
            "metadata": {}, 
            "outputs": [], 
            "source": "url = 'https://en.wikipedia.org/wiki/List_of_postal_codes_of_Canada:_M'\ndata_xml = requests.get(url).text"
        }, 
        {
            "source": "## Extract data from xml file with BeautifulSoup", 
            "cell_type": "markdown", 
            "metadata": {}
        }, 
        {
            "execution_count": null, 
            "cell_type": "code", 
            "metadata": {}, 
            "outputs": [], 
            "source": "soup_postal_codes = BeautifulSoup(data_xml,'lxml')\n\n# find the table in xml code\nTable_postal_codes = soup_postal_codes.find('table',{'class':'wikitable sortable'})\nTable_postal_codes = Table_postal_codes.find_all('tr')"
        }, 
        {
            "execution_count": null, 
            "cell_type": "code", 
            "metadata": {}, 
            "outputs": [], 
            "source": "#loading empty array for board members\nPost_code = []\n\nfor balise_tr in Table_postal_codes:\n    balise_td = balise_tr.find_all('td')\n    row = [i.text for i in balise_td]\n    Post_code.append(row)\n    #print(row)\n\ndel Post_code[0]\n#Post_code"
        }, 
        {
            "source": "## Build the table of postal codes and to transform the data into a pandas dataframe :", 
            "cell_type": "markdown", 
            "metadata": {}
        }, 
        {
            "execution_count": null, 
            "cell_type": "code", 
            "metadata": {}, 
            "outputs": [], 
            "source": "# instantiate the dataframe\n\ncolumn_names = ['PostalCode', 'Borough', 'Neighborhood'] \nPoste_code_table = pd.DataFrame(columns=column_names)\n\n#Poste_code_table"
        }, 
        {
            "execution_count": null, 
            "cell_type": "code", 
            "metadata": {}, 
            "outputs": [], 
            "source": "# Fill Poste_code_table with data from Post_code\n\nfor data in Post_code:\n    \n    Post_Code = data[0]\n    Borough = data[1]\n    Neighborhood = data[2]\n    \n    Poste_code_table = Poste_code_table.append({'PostalCode': Post_Code,\n                                       'Borough': Borough,\n                                       'Neighborhood':Neighborhood}, \n                                        ignore_index=True)\n\nPoste_code_table.Neighborhood = Poste_code_table.Neighborhood.apply(lambda ele : ele.strip('\\n')) "
        }, 
        {
            "execution_count": null, 
            "cell_type": "code", 
            "metadata": {}, 
            "outputs": [], 
            "source": "# Ignore cells with a borough that is Not assigned.\nPoste_code_table = Poste_code_table[Poste_code_table['Borough'] != 'Not assigned']\n"
        }, 
        {
            "execution_count": null, 
            "cell_type": "code", 
            "metadata": {}, 
            "outputs": [], 
            "source": "#If a cell has a borough but a Not assigned neighborhood, then the neighborhood will be the same as the borough. \n\nPoste_code_table = Poste_code_table.replace({'Neighborhood': r'Not assigned'}, \n                                            {'Neighborhood': Poste_code_table[Poste_code_table['Neighborhood'] == 'Not assigned'].Borough}, \n                                            regex=True)\n                 \n"
        }, 
        {
            "execution_count": null, 
            "cell_type": "code", 
            "metadata": {}, 
            "outputs": [], 
            "source": "# Combined into one row with the neighborhoods separated with a comma \n\nPoste_code_table = Poste_code_table.groupby(['PostalCode','Borough'],as_index=False).agg(lambda x : ', '.join(x))\n"
        }, 
        {
            "execution_count": null, 
            "cell_type": "code", 
            "metadata": {}, 
            "outputs": [], 
            "source": "Poste_code_table.shape"
        }, 
        {
            "execution_count": null, 
            "cell_type": "code", 
            "metadata": {}, 
            "outputs": [], 
            "source": "Poste_code_table"
        }
    ], 
    "metadata": {
        "kernelspec": {
            "display_name": "Python 3.5", 
            "name": "python3", 
            "language": "python"
        }, 
        "language_info": {
            "mimetype": "text/x-python", 
            "nbconvert_exporter": "python", 
            "version": "3.5.5", 
            "name": "python", 
            "file_extension": ".py", 
            "pygments_lexer": "ipython3", 
            "codemirror_mode": {
                "version": 3, 
                "name": "ipython"
            }
        }
    }, 
    "nbformat": 4
}